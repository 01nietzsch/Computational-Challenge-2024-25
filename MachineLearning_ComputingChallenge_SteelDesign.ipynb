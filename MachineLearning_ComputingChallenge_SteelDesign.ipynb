{
 "cells": [
  {
   "cell_type": "markdown",
   "metadata": {},
   "source": [
    "# 2024/2025 Coding Challenge: \"Technical ML Consulting for NewSteel Corp\"\n",
    "\n",
    "> This year, the coding challenge will be to use real-world data to build and validate a Machine Learning model to **predict the properties of steel from its composition**, as well as to optimise a new composition to achieve specific target properties. "
   ]
  },
  {
   "cell_type": "markdown",
   "metadata": {},
   "source": [
    "## 1. Context and Scope of the Challenge\n",
    "\n",
    "Alloys synthesis and testing can be quite expensive, hence assembling a database of materials properties vs composition is extremely valuable. More valuable still is if you can 'learn' something from this database, in other words, train an algorithm that can be used to predict certain properties before a given composition is even synthesised. \n",
    "\n",
    "Your team has been hired by a new exciting startup, NewSteels Corp, as ML specialist consultants with the goal to extract as much value as possible from their expensive database. In practice, **your goal is to provide your employer with an algorithm that can predict some important mechanical properties of new steels**. \n",
    "\n",
    "Due to supply chain constraints and geopolitical issues, some components like Ni and Co are becoming problematic and NewSteel would like to reduce their use as much as possible. For this reason, your employer decided that you will be **given an extra bonus if, on top of the predictive algorithm, you can also use it to design an optimisation pipeline to come up with a new type of steel** that reduces nickel and cobalt content while preserving certain properties above the specific target values required by NewSteels' customers. \n",
    "\n",
    "## 2. The Database\n",
    "\n",
    "You will have access to a database containing, for each sample:\n",
    "\n",
    "1) The chemical formula for that sample \n",
    "2) The weight % of each element present in the sample\n",
    "3) The measured tensile strength (in MPa)\n",
    "4) The measured tensile yield (in MPa)\n",
    "5) The relative elongation at fracture (in %)\n",
    "\n",
    "## 3. The goal\n",
    "\n",
    "To build and train a set of algorithms to predict properties 3, 4 and 5, taking as input the steel composition. For property 5, you only need to be able to assign a label \"fragile\", \"medium\" or \"strong\" depending on whether the relative elongation at fracture is below 5%, betweem 5% and 10%, or above, respectively. You must also provide a quantification of the uncertainty in the predictions made.\n",
    "\n"
   ]
  },
  {
   "cell_type": "markdown",
   "metadata": {},
   "source": [
    "## 4. A few details & tips\n",
    "\n",
    "In solving this challenge, consider the following steps:\n",
    "\n",
    "1. **Check if you need to do any pre-processing on the data**, e.g., cleaning, encoding and so on. You should also think about how to replace potentially missing data, or whether some of this data needs to be removed completely. Extra tip: is there any redundancy in this data that you can exploit?\n",
    "\n",
    "2. In building your algorithms, you do not need to recode everything by yourself and instead make use as much as possible of the ``sci-kit learn`` functionalities covered in the course. **Rationally choose a type of algorithm(s)** based on the data and problem provided, split the data, do training and testing, and analyse the results of the choices of the hyper-parameters, if you have any. You will also need to comment on the choices made, and justify the choice of parameters with an analysis of their effect.\n",
    "\n",
    "3. **For bonus points only**: use the algorithms developed to build an optimisation pipeline and provide a potential steel composition whose predicted values for tensile strength and yield strength are both above 1.5 GPa, while having the lowest possible aggregate amount, in weight, of $Ni$ and $Co$.\n",
    "To find this composition you could, for example, start from a given composition in the dataset and iteratively modify it composition by small increments / decrements of some specific element and evaluate how the properties change - using a Monte Carlo scheme. However, this is not the only possibility, feel free to creatively devise your own!"
   ]
  },
  {
   "cell_type": "markdown",
   "metadata": {},
   "source": [
    "## 5. Practicalities\n",
    "\n",
    "### 5.1 Output requested\n",
    "\n",
    "A Python code, either in a .py standard Python file or in the form of a **Jupyter Notebook**, with the code implementing the different algorithms requested. \n",
    "\n",
    "A file (either inside the code or in a separate text document, if you prefer) with examples and graphs summarising the analysis made to test different choices for implementing your ML pipeline. In this document, you should provide a short description of the choices made (how did you clean the data? What algorithms did you choose? Which hyper-parameters) and their rational analysis (why did you clean the data in this specific way? Why did you choose specifically these algorithms and this combination of hyper-parameters?) so that an external person can judge the quality of your work. In this part, you should also include a summary of the different metrics calculated to evaluate the quality of the predictions made by your algorithm with an evaluation of the uncertainty.\n",
    "\n",
    "For bonus points only: the algorithm implementing your optimisation pipeline, ideally with a graph presenting the results of your optimisation and the specific composition representing your best solution to the problem, as predicted by your ML algorithm.\n",
    "\n",
    "You can provide the 2(3 for bonus) parts as a single or multiple notebooks, or as a notebook and a text document if you prefer, it is up to you. However, you should compress all files in a single folder. \n",
    "\n",
    ">> Tip: you can use a series of Markdown and Code cells in Jupyter Notebooks to add report-like comments detailing the choices made and the reason behind them, when necessary. Markdown is the syntax used to generate these notes, you can find it here[https://www.makeuseof.com/tag/learning-markdown-write-web-faster/] \n",
    "\n",
    "\n",
    "### 5.2 Submission \n",
    "\n",
    "Submit the output requested above as a single compressed file on Blackboard.\n",
    "\n",
    "Additionally, and separately, you will need to submit another document (as a Word or text file) named \"peer-review evalution\" containing the names of your group components and for each person a mark of 0, 50 or 100 evaluating their contribution to the project (obviously, do not rate your own contribution...)\n",
    "\n",
    "Each single person must independently submit the whole material.  \n",
    "\n",
    "The final mark you will receive will be 70% of the group mark for the exercise + 30% coming from the peer evaluation. If a person has more than a single peer evaluation of 0%, this person will have their whole mark (including the 70% for the group) **set automatically to zero, unless specific mitigation circumstances can be provided**.\n",
    "\n",
    "### 5.3 Marking\n",
    "\n",
    "The marking will follow the following 5 criteria:\n",
    "\n",
    "1. Correct use of Python and its common functionalities\n",
    "2. Readability & *Ae*sthetic of the code: adding comments when needed, detailing functions with help strings, use of the correct structures / classes, use of annotations,...\n",
    "3. Use of the correct functionalities in the packages covered during the lectures, especially regarding `sci-kit learn`\n",
    "4. Correct implementation of the pipeline to build and assess a ML algorithm\n",
    "5. Presentation and analysis of the results\n",
    "\n",
    "### 5.4 Prize\n",
    "\n",
    "The prize for this year Computational Challenge is reserved to the top performing group. The prize comprises both a certificate and £200 in gift cards (this is the total to be shared among the group components)."
   ]
  },
  {
   "cell_type": "markdown",
   "metadata": {},
   "source": [
    "## 6. Final Remark\n",
    "\n",
    "Remember that if you need to ask questions you can access your GTA during standard workshop days for the whole 3 hours. Once the workshop finishes, GTAs will not be available anymore so please use this time carefully!.<br>\n",
    "\n",
    "**Good luck and enjoy this year's challenge!**"
   ]
  },
  {
   "cell_type": "code",
   "execution_count": null,
   "metadata": {},
   "outputs": [],
   "source": []
  }
 ],
 "metadata": {
  "kernelspec": {
   "display_name": "Python 3",
   "language": "python",
   "name": "python3"
  },
  "language_info": {
   "codemirror_mode": {
    "name": "ipython",
    "version": 3
   },
   "file_extension": ".py",
   "mimetype": "text/x-python",
   "name": "python",
   "nbconvert_exporter": "python",
   "pygments_lexer": "ipython3",
   "version": "3.7.2"
  }
 },
 "nbformat": 4,
 "nbformat_minor": 5
}
